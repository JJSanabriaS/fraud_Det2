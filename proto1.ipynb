{
  "nbformat": 4,
  "nbformat_minor": 0,
  "metadata": {
    "colab": {
      "provenance": [],
      "include_colab_link": true
    },
    "kernelspec": {
      "name": "python3",
      "display_name": "Python 3"
    },
    "language_info": {
      "name": "python"
    }
  },
  "cells": [
    {
      "cell_type": "markdown",
      "metadata": {
        "id": "view-in-github",
        "colab_type": "text"
      },
      "source": [
        "<a href=\"https://colab.research.google.com/github/JJSanabriaS/fraud_Det2/blob/main/proto1.ipynb\" target=\"_parent\"><img src=\"https://colab.research.google.com/assets/colab-badge.svg\" alt=\"Open In Colab\"/></a>"
      ]
    },
    {
      "cell_type": "code",
      "execution_count": 8,
      "metadata": {
        "colab": {
          "base_uri": "https://localhost:8080/"
        },
        "id": "CofON8ZQvY7s",
        "outputId": "584d8474-9206-4b5a-87b3-3bd6cfd86ce1"
      },
      "outputs": [
        {
          "output_type": "stream",
          "name": "stdout",
          "text": [
            "Requirement already satisfied: PDFQuery in /usr/local/lib/python3.10/dist-packages (0.4.3)\n",
            "Requirement already satisfied: cssselect>=0.7.1 in /usr/local/lib/python3.10/dist-packages (from PDFQuery) (1.2.0)\n",
            "Requirement already satisfied: chardet in /usr/local/lib/python3.10/dist-packages (from PDFQuery) (5.2.0)\n",
            "Requirement already satisfied: lxml>=3.0 in /usr/local/lib/python3.10/dist-packages (from PDFQuery) (4.9.4)\n",
            "Requirement already satisfied: pdfminer.six in /usr/local/lib/python3.10/dist-packages (from PDFQuery) (20231228)\n",
            "Requirement already satisfied: pyquery>=1.2.2 in /usr/local/lib/python3.10/dist-packages (from PDFQuery) (2.0.0)\n",
            "Requirement already satisfied: roman>=1.4.0 in /usr/local/lib/python3.10/dist-packages (from PDFQuery) (4.2)\n",
            "Requirement already satisfied: charset-normalizer>=2.0.0 in /usr/local/lib/python3.10/dist-packages (from pdfminer.six->PDFQuery) (3.3.2)\n",
            "Requirement already satisfied: cryptography>=36.0.0 in /usr/local/lib/python3.10/dist-packages (from pdfminer.six->PDFQuery) (42.0.7)\n",
            "Requirement already satisfied: cffi>=1.12 in /usr/local/lib/python3.10/dist-packages (from cryptography>=36.0.0->pdfminer.six->PDFQuery) (1.16.0)\n",
            "Requirement already satisfied: pycparser in /usr/local/lib/python3.10/dist-packages (from cffi>=1.12->cryptography>=36.0.0->pdfminer.six->PDFQuery) (2.22)\n"
          ]
        }
      ],
      "source": [
        "!pip install PDFQuery"
      ]
    },
    {
      "cell_type": "code",
      "execution_count": 12,
      "metadata": {
        "colab": {
          "base_uri": "https://localhost:8080/"
        },
        "id": "jKLyp7T2vbAD",
        "outputId": "e8a2bbb9-a863-4911-a696-5a423fc14f3b"
      },
      "outputs": [
        {
          "output_type": "stream",
          "name": "stdout",
          "text": [
            "['', '', '', '', '', '', '', '', '', '', '', '', '', '', '', '', '', '', '', '', '', '', '', '', '', '', '', '', '', '', '', '', '', '', '', '', '', '', '', '', '', '', '', '', '', '', '', '', '', '', '', '', '', '', '', '', '', '', '', '', '', '']\n",
            "0.0008151909996740869\n"
          ]
        }
      ],
      "source": [
        "from pdfquery import PDFQuery\n",
        "import timeit\n",
        "start = timeit.timeit()\n",
        "pdf = PDFQuery('drive/MyDrive/jonasmotta/test2.pdf')\n",
        "pdf.load()\n",
        "\n",
        "# Use CSS-like selectors to locate the text elements\n",
        "text_elements = pdf.pq('LTTextLineHorizontal')\n",
        "\n",
        "# Extract the text from the elements\n",
        "text = [t.text for t in text_elements]\n",
        "print(text)\n",
        "end = timeit.timeit()\n",
        "print(end - start)"
      ]
    },
    {
      "cell_type": "code",
      "source": [
        "from google.colab import drive\n",
        "drive.mount('/content/drive')"
      ],
      "metadata": {
        "id": "a_9_5iQCzYYM"
      },
      "execution_count": null,
      "outputs": []
    }
  ]
}